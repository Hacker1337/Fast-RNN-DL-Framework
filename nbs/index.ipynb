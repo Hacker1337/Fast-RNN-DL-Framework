{
 "cells": [
  {
   "cell_type": "code",
   "execution_count": null,
   "metadata": {},
   "outputs": [],
   "source": [
    "#| hide\n",
    "# from fast_deep_rnn.core import *"
   ]
  },
  {
   "cell_type": "markdown",
   "metadata": {},
   "source": [
    "# fast-deep-rnn\n",
    "\n",
    "> Deep Learning framework extension allowing more efficient backpropogation of gradient in a situation with branched computational graph structure"
   ]
  },
  {
   "cell_type": "markdown",
   "metadata": {},
   "source": [
    "This is the Course Project for the DeepLearning University Course. "
   ]
  },
  {
   "cell_type": "markdown",
   "metadata": {},
   "source": [
    "## Install"
   ]
  },
  {
   "cell_type": "markdown",
   "metadata": {},
   "source": [
    "Library can be installed from the PyPI via\n",
    "```sh\n",
    "pip install fast_deep_rnn\n",
    "```"
   ]
  },
  {
   "cell_type": "markdown",
   "metadata": {},
   "source": [
    "## Structure\n",
    "\n",
    "Overall, the project is build with [nbdev](https://nbdev.fast.ai/) platform, and organized according to its standards. Jupyter notebooks with code are located in `nbs` and `fast_deep_rnn` is a python library generated from the notebooks automatically."
   ]
  },
  {
   "cell_type": "markdown",
   "metadata": {},
   "source": [
    "`core` module contains the original core of the framework with Tensor class implementation and the set of differentiable operations, organized in Modules.\n",
    "\n",
    "`core_v2` module contains the alternative proposed implementation, resulting in much faster gradient computing in RNN-s.\n",
    "\n",
    "Notebook `nbs/02_minimal_training.ipynb` contains the simplest example of model, having exponential growth in original gradient computing, and benchmarking function to measure this growth. git tags `baseline_benchmark_results` and `solution_benchmark_results` contain corresponding benchmark results inside the notebook.\n",
    "\n",
    "Notebook `nbs/01_lstm_training.ipynb` contains training of LSTM on number sorting task, which became possible only after the implemented optimization.\n",
    "\n",
    "Presentation of the work with algorithm explanation is in `report/Presentation. Fast Backprop for RNNs.pdf`"
   ]
  }
 ],
 "metadata": {
  "kernelspec": {
   "display_name": "python3",
   "language": "python",
   "name": "python3"
  }
 },
 "nbformat": 4,
 "nbformat_minor": 4
}
