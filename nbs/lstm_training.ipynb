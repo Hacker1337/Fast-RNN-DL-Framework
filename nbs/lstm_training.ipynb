{
 "cells": [
  {
   "cell_type": "code",
   "execution_count": null,
   "metadata": {},
   "outputs": [],
   "source": [
    "#| hide\n",
    "%load_ext autoreload\n",
    "%autoreload 2"
   ]
  },
  {
   "attachments": {},
   "cell_type": "markdown",
   "metadata": {},
   "source": [
    "# Imports"
   ]
  },
  {
   "cell_type": "code",
   "execution_count": null,
   "metadata": {},
   "outputs": [],
   "source": [
    "import numpy as np\n",
    "import pandas as pd\n",
    "import matplotlib.pyplot as plt\n",
    "from lets_plot import *"
   ]
  },
  {
   "cell_type": "code",
   "execution_count": null,
   "metadata": {},
   "outputs": [],
   "source": [
    "from sklearn.model_selection import train_test_split\n",
    "from sklearn.metrics import accuracy_score\n",
    "from sklearn.metrics import confusion_matrix"
   ]
  },
  {
   "cell_type": "code",
   "execution_count": null,
   "metadata": {},
   "outputs": [],
   "source": [
    "from matplotlib.figure import Figure\n",
    "from matplotlib.axes import Axes"
   ]
  },
  {
   "cell_type": "code",
   "execution_count": null,
   "metadata": {},
   "outputs": [],
   "source": [
    "import itertools"
   ]
  },
  {
   "cell_type": "code",
   "execution_count": null,
   "metadata": {},
   "outputs": [],
   "source": [
    "def to_scalar(x, i):\n",
    "    \"\"\"Returns i-th element from an array x if x is array, else returns x\n",
    "Args:\n",
    "    x - input array\n",
    "    i - index to return\n",
    "Returns:\n",
    "    x[i] if x is an array and x else\n",
    "\"\"\"\n",
    "    if isinstance(x, (np.ndarray, list)):\n",
    "        return x[i]\n",
    "    return x"
   ]
  },
  {
   "cell_type": "code",
   "execution_count": null,
   "metadata": {},
   "outputs": [],
   "source": [
    "def gradient_checker(J, grad_J, theta, eps=1e-4, rtol=1e-5):\n",
    "    \"\"\"Gradient checker for scalar and vector functions\n",
    "Args:\n",
    "    J - function of theta\n",
    "    grad_J - gradient of function J\n",
    "    theta - the point for which to compute the numerical gradient\n",
    "    eps - step value in numerical gradient\n",
    "    rtol - relative tolerance threshold value\n",
    "Returns:\n",
    "    error message if the relative tolerance is greater for some axis\n",
    "    or \"Gradient check passed\" else\n",
    "\"\"\"\n",
    "    it = np.nditer(theta, flags=['multi_index'], op_flags=['readwrite'])\n",
    "\n",
    "    while not it.finished:\n",
    "        ix = it.multi_index\n",
    "\n",
    "        theta_ = np.array(theta, copy=True)\n",
    "        theta_[ix] += eps\n",
    "        np.random.seed(42)\n",
    "        J1 = J(theta_)\n",
    "\n",
    "        theta_ = np.array(theta, copy=True)\n",
    "        theta_[ix] -= eps\n",
    "        np.random.seed(42)\n",
    "        J2 = J(theta_)\n",
    "\n",
    "        J1 = to_scalar(J1, ix)\n",
    "        J2 = to_scalar(J2, ix)\n",
    "\n",
    "        num_grad = (J1 - J2)/(2*eps)\n",
    "\n",
    "        rel_tol = np.abs(num_grad - grad_J(theta))[ix]/(1. + np.minimum(np.abs(num_grad), np.abs(grad_J(theta)[ix])))\n",
    "\n",
    "        if np.all(rel_tol > rtol):\n",
    "            print(f'Incorrect gradient for the axis {str(ix)}')\n",
    "            return\n",
    "        it.iternext()\n",
    "    print(f'Gradient check passed')"
   ]
  },
  {
   "cell_type": "code",
   "execution_count": null,
   "metadata": {},
   "outputs": [],
   "source": [
    "def J_theta_global(model, loss_function, theta, idx, x, y):\n",
    "    previous = model.parameters()[idx].copy()\n",
    "    np.copyto(dst=model.parameters()[idx], src=theta)\n",
    "    outputs = model(x)\n",
    "    loss = loss_function(outputs, y)\n",
    "    np.copyto(dst=model.parameters()[idx], src=previous)\n",
    "    return loss"
   ]
  },
  {
   "cell_type": "code",
   "execution_count": null,
   "metadata": {},
   "outputs": [],
   "source": [
    "def dJ_theta_global(model, loss_function, theta, idx, x):\n",
    "    grad = model.backward(loss_function)[idx] / x.shape[0]\n",
    "    return grad.reshape(theta.shape)"
   ]
  },
  {
   "cell_type": "code",
   "execution_count": null,
   "metadata": {},
   "outputs": [],
   "source": [
    "def sigmoid(x,slope=1.0):\n",
    "    return 1.0/(1.0+np.exp(-slope*x))"
   ]
  },
  {
   "cell_type": "code",
   "execution_count": null,
   "metadata": {},
   "outputs": [],
   "source": [
    "def sigmoid_prime(x,slope=1.0):\n",
    "    return slope*sigmoid(x,slope=slope)*(1.0-sigmoid(x,slope=slope))"
   ]
  },
  {
   "cell_type": "code",
   "execution_count": null,
   "metadata": {},
   "outputs": [
    {
     "name": "stdout",
     "output_type": "stream",
     "text": [
      "Gradient check passed\n"
     ]
    }
   ],
   "source": [
    "z = np.random.normal(size=5)\n",
    "gradient_checker(sigmoid, sigmoid_prime, z, eps=1e-4, rtol=1e-5)"
   ]
  },
  {
   "cell_type": "code",
   "execution_count": null,
   "metadata": {},
   "outputs": [],
   "source": [
    "def gg_confusion_matrix(y, y_hat):\n",
    "    conf_mat = confusion_matrix(y, y_hat)[::-1]\n",
    "    confusion_dat = pd.DataFrame(conf_mat)\n",
    "    observed = confusion_dat.columns.values\n",
    "    actual = confusion_dat.index.values\n",
    "    xx, yy = np.meshgrid(actual, observed)\n",
    "    xx = xx.reshape(-1)\n",
    "    yy = yy.reshape(-1)\n",
    "    zz = conf_mat.reshape(-1)\n",
    "    dat = {'predicted':xx, 'actual':yy[::-1], 'z':zz}\n",
    "    p = ggplot(dat, aes('predicted', 'actual', fill='z')) \\\n",
    "        + geom_raster() \\\n",
    "        + geom_text(aes(label='z'), color='white')\\\n",
    "        + theme(legend_position='none', axis_ticks='blank', axis_line='blank')\\\n",
    "        + ggsize(500, 500) + scale_x_discrete() + scale_y_discrete()\\\n",
    "        + ggtitle('Confusion matrix')\n",
    "    return p"
   ]
  },
  {
   "cell_type": "code",
   "execution_count": null,
   "metadata": {},
   "outputs": [],
   "source": [
    "from matplotlib.figure import Figure\n",
    "from matplotlib.axes import Axes"
   ]
  },
  {
   "cell_type": "code",
   "execution_count": null,
   "metadata": {},
   "outputs": [],
   "source": [
    "import matplotlib.ticker as ticker"
   ]
  },
  {
   "cell_type": "code",
   "execution_count": null,
   "metadata": {},
   "outputs": [],
   "source": [
    "import itertools"
   ]
  },
  {
   "attachments": {},
   "cell_type": "markdown",
   "metadata": {},
   "source": [
    "# RNN"
   ]
  },
  {
   "cell_type": "code",
   "execution_count": null,
   "metadata": {},
   "outputs": [],
   "source": [
    "from copy import copy\n",
    "import inspect\n",
    "import functools"
   ]
  },
  {
   "cell_type": "code",
   "execution_count": null,
   "metadata": {},
   "outputs": [],
   "source": [
    "from typing import List, Optional, Union, Callable\n",
    "import json\n",
    "import time"
   ]
  },
  {
   "cell_type": "code",
   "execution_count": null,
   "metadata": {},
   "outputs": [],
   "source": [
    "num_examples = 1000\n",
    "seq_len = 3\n",
    "max_number = 10"
   ]
  },
  {
   "cell_type": "code",
   "execution_count": null,
   "metadata": {},
   "outputs": [],
   "source": [
    "def get_examples(seq_len, num_examples, max_number):\n",
    "    inputs = np.random.randint(0, max_number, size=(num_examples, seq_len))\n",
    "    targets = np.sort(inputs)\n",
    "    return inputs, targets"
   ]
  },
  {
   "cell_type": "code",
   "execution_count": null,
   "metadata": {},
   "outputs": [],
   "source": [
    "inputs, targets = get_examples(seq_len, num_examples, max_number)"
   ]
  },
  {
   "cell_type": "code",
   "execution_count": null,
   "metadata": {},
   "outputs": [
    {
     "name": "stdout",
     "output_type": "stream",
     "text": [
      "inputs/sorted: ([6, 3, 7], [3, 6, 7])\n",
      "inputs/sorted: ([4, 6, 9], [4, 6, 9])\n",
      "inputs/sorted: ([2, 6, 7], [2, 6, 7])\n",
      "inputs/sorted: ([4, 3, 7], [3, 4, 7])\n",
      "inputs/sorted: ([7, 2, 5], [2, 5, 7])\n",
      "inputs/sorted: ([4, 1, 7], [1, 4, 7])\n",
      "inputs/sorted: ([5, 1, 4], [1, 4, 5])\n",
      "inputs/sorted: ([0, 9, 5], [0, 5, 9])\n",
      "inputs/sorted: ([8, 0, 9], [0, 8, 9])\n",
      "inputs/sorted: ([2, 6, 3], [2, 3, 6])\n"
     ]
    }
   ],
   "source": [
    "for inp, tgt in zip(inputs[:10], targets[:10]):\n",
    "    print(f'inputs/sorted: {list(inp), list(tgt)}')"
   ]
  },
  {
   "cell_type": "code",
   "execution_count": null,
   "metadata": {},
   "outputs": [],
   "source": [
    "def to_string(X, seq_len, max_number):\n",
    "    max_length = int(seq_len * np.ceil(np.log10(max_number + 1)) + seq_len - 1)\n",
    "    Xstr = []\n",
    "    for example in X:\n",
    "        xstr = ','.join([str(n) for n in example])\n",
    "        xstr += ''.join([' ' for _ in range(max_length - len(xstr))])\n",
    "        Xstr.append(xstr)\n",
    "    return Xstr"
   ]
  },
  {
   "cell_type": "code",
   "execution_count": null,
   "metadata": {},
   "outputs": [],
   "source": [
    "inputs = to_string(inputs, seq_len, max_number)\n",
    "targets = to_string(targets, seq_len, max_number)"
   ]
  },
  {
   "cell_type": "code",
   "execution_count": null,
   "metadata": {},
   "outputs": [
    {
     "name": "stdout",
     "output_type": "stream",
     "text": [
      "inputs[0]: 6,3,7    targets[0]: 3,6,7   \n"
     ]
    }
   ],
   "source": [
    "print(f'inputs[0]: {inputs[0]} targets[0]: {targets[0]}')"
   ]
  },
  {
   "cell_type": "code",
   "execution_count": null,
   "metadata": {},
   "outputs": [],
   "source": [
    "vocab = ['0', '1', '2', '3', '4', '5', '6', '7', '8', '9', ',', ' ']"
   ]
  },
  {
   "cell_type": "code",
   "execution_count": null,
   "metadata": {},
   "outputs": [],
   "source": [
    "def integer_encode(X, vocab):\n",
    "    char_to_int = dict((c, i) for i, c in enumerate(vocab))\n",
    "    Xenc = []\n",
    "    for example in X:\n",
    "        encoded = [char_to_int[char] for char in example]\n",
    "        Xenc.append(encoded)\n",
    "    return Xenc"
   ]
  },
  {
   "cell_type": "code",
   "execution_count": null,
   "metadata": {},
   "outputs": [],
   "source": [
    "inputs = integer_encode(inputs, vocab)\n",
    "targets = integer_encode(targets, vocab)"
   ]
  },
  {
   "cell_type": "code",
   "execution_count": null,
   "metadata": {},
   "outputs": [
    {
     "name": "stdout",
     "output_type": "stream",
     "text": [
      "inputs[0]: [6, 10, 3, 10, 7, 11, 11, 11] targets[0]: [3, 10, 6, 10, 7, 11, 11, 11]\n"
     ]
    }
   ],
   "source": [
    "print(f'inputs[0]: {inputs[0]} targets[0]: {targets[0]}')"
   ]
  },
  {
   "cell_type": "code",
   "execution_count": null,
   "metadata": {},
   "outputs": [],
   "source": [
    "dataset_inputs = np.array(inputs)\n",
    "dataset_targets = np.array(targets)"
   ]
  },
  {
   "cell_type": "code",
   "execution_count": null,
   "metadata": {},
   "outputs": [],
   "source": [
    "from fast_deep_rnn.core import *"
   ]
  },
  {
   "cell_type": "code",
   "execution_count": null,
   "metadata": {},
   "outputs": [],
   "source": [
    "class RNNCell(Module):\n",
    "    def __init__(self, state_size: int, hidden_size: int):\n",
    "        super().__init__()\n",
    "        self.linear = LinearLayer(state_size, hidden_size)\n",
    "        self.tanh = TanhFunction()\n",
    "        self.hstack = HStack()\n",
    "        self.register_parameters([self.linear])\n",
    "\n",
    "    def forward(self, x: Tensor, h_t_1: Optional[Tensor] = None):\n",
    "        X = self.hstack(x, h_t_1)\n",
    "        z = self.linear(X)\n",
    "        h_t = self.tanh(z)\n",
    "        return h_t"
   ]
  },
  {
   "cell_type": "code",
   "execution_count": null,
   "metadata": {},
   "outputs": [],
   "source": [
    "class RNN(Module):\n",
    "    def __init__(self, input_size: int, hidden_size: int):\n",
    "        super().__init__()\n",
    "        self.input_size = input_size\n",
    "        self.hidden_size = hidden_size\n",
    "        self.state_size = input_size + hidden_size\n",
    "        self.rnn = RNNCell(self.state_size, hidden_size)\n",
    "        self. row = Row()\n",
    "        self.vstack = VStack()\n",
    "        self.register_parameters([self.rnn])\n",
    "\n",
    "    def forward(self, x: Tensor, h_t_1: Optional[Tensor] = None):\n",
    "        seq_len, batch_size, input_size = x.shape\n",
    "        # print(f'seq_len: {seq_len} batch_size: {batch_size} input_size: {input_size}')\n",
    "        h = Tensor(np.zeros((0, batch_size, self.hidden_size)), name=\"h\")\n",
    "        if h_t_1 is None:\n",
    "            h_t_1 = Tensor(np.zeros((batch_size, self.hidden_size)), name=\"h_t_1\")\n",
    "        for idx in range(seq_len):\n",
    "            h_t_1 = self.rnn.forward(self.row(x, idx), h_t_1)\n",
    "            h = self.vstack(h, h_t_1.reshape((1, batch_size, self.hidden_size)))\n",
    "        return h"
   ]
  },
  {
   "cell_type": "code",
   "execution_count": null,
   "metadata": {},
   "outputs": [],
   "source": [
    "class RecurrentNetwork(Module):\n",
    "    def __init__(self, vocab_size: int, emb_size: int, hidden_size: int):\n",
    "        super().__init__()\n",
    "        self.emb_size = emb_size\n",
    "        self.hidden_size = hidden_size\n",
    "        self.embedding = Embedding(vocab_size, emb_size)\n",
    "        self.rnn = RNN(emb_size, hidden_size)\n",
    "        self.linear = LinearLayer(hidden_size, vocab_size)\n",
    "        xavier_(self.linear.parameters)\n",
    "        self.register_parameters([self.embedding, self.rnn, self.linear])\n",
    "\n",
    "    def forward(self, x: Tensor):\n",
    "        emb = self.embedding(x)\n",
    "        rnn_out = self.rnn(emb)\n",
    "        linear_out = self.linear(rnn_out.reshape(-1, self.hidden_size))\n",
    "        return linear_out"
   ]
  },
  {
   "cell_type": "code",
   "execution_count": null,
   "metadata": {},
   "outputs": [],
   "source": [
    "def eval_accuracy(model, val, y_val):\n",
    "    model.eval()\n",
    "    output = model(Tensor(val))\n",
    "    y_hat = np.argmax(output.data, axis=1)\n",
    "    model.train()\n",
    "    return accuracy_score(y_val.ravel(), y_hat.ravel())"
   ]
  },
  {
   "cell_type": "code",
   "execution_count": null,
   "metadata": {},
   "outputs": [],
   "source": [
    "num_epochs = 1\n",
    "vocab_size = len(vocab)\n",
    "emb_size = 20\n",
    "hidden_size = 32\n",
    "batch_size = 100\n",
    "dataloader = DataLoader(dataset_inputs, dataset_targets, batch_size=batch_size)\n",
    "model = RecurrentNetwork(vocab_size, emb_size, hidden_size)\n",
    "loss_function = CrossEntropyLoss()\n",
    "optimizer = SGD(model.parameters, lr=1.0)\n",
    "# optimizer = Adam(model.parameters, alpha=0.1, beta1=0.9, beta2=0.999, eps=1e-8, weight_decay=0.01)\n",
    "scheduler = ConstantLR(optimizer)"
   ]
  },
  {
   "cell_type": "code",
   "execution_count": null,
   "metadata": {},
   "outputs": [
    {
     "data": {
      "text/plain": [
       "2332"
      ]
     },
     "execution_count": null,
     "metadata": {},
     "output_type": "execute_result"
    }
   ],
   "source": [
    "model.size()"
   ]
  },
  {
   "cell_type": "code",
   "execution_count": null,
   "metadata": {},
   "outputs": [
    {
     "name": "stdout",
     "output_type": "stream",
     "text": [
      " epoch: [1/1], loss: 16.662478383112063, acc: 0.675"
     ]
    }
   ],
   "source": [
    "losses = []\n",
    "accuracies = []\n",
    "lrs = []\n",
    "for epoch in range(num_epochs):\n",
    "    loss_sum = 0\n",
    "    for data in dataloader():\n",
    "        optimizer.zero_grad()\n",
    "        inputs, targets = data\n",
    "        inputs = inputs.transpose(1, 0)\n",
    "        targets = targets.transpose(1, 0)\n",
    "        outputs = model(inputs)\n",
    "        loss = loss_function(outputs, targets)\n",
    "        loss.backward()\n",
    "        optimizer.step()\n",
    "        loss_sum += loss.data\n",
    "    acc = eval_accuracy(model, inputs.data, targets.data)\n",
    "    print(f'\\r epoch: [{epoch+1}/{num_epochs}], loss: {loss_sum}, acc: {acc}', end='')\n",
    "    losses.append(loss_sum)\n",
    "    accuracies.append(acc)\n",
    "    lrs.append(scheduler.lr)\n",
    "    scheduler.step()"
   ]
  },
  {
   "cell_type": "code",
   "execution_count": null,
   "metadata": {},
   "outputs": [
    {
     "data": {
      "image/png": "[encoded data removed]",
      "text/plain": [
       "<Figure size 1500x500 with 2 Axes>"
      ]
     },
     "metadata": {},
     "output_type": "display_data"
    }
   ],
   "source": [
    "epochs = np.arange(num_epochs)\n",
    "fig, ax = plt.subplots(1, 2, figsize=(15,5))\n",
    "ax[0].plot(epochs, losses)\n",
    "ax[0].set_title('Losses')\n",
    "ax[1].plot(epochs, accuracies)\n",
    "ax[1].set_title('Accuracy');"
   ]
  },
  {
   "cell_type": "code",
   "execution_count": null,
   "metadata": {},
   "outputs": [],
   "source": [
    "# num_examples = 100\n",
    "# seq_len = 3\n",
    "# max_number = 10\n",
    "\n",
    "# inputs, targets = get_examples(seq_len, num_examples, max_number)\n",
    "\n",
    "# inputs = to_string(inputs, seq_len, max_number)\n",
    "# targets = to_string(targets, seq_len, max_number)\n",
    "\n",
    "# inputs = integer_encode(inputs, vocab)\n",
    "# targets = integer_encode(targets, vocab)\n",
    "\n",
    "# inputs, targets = Tensor(np.array(inputs).transpose((1, 0))), Tensor(np.array(targets).transpose((1, 0)))\n",
    "# outputs = model(inputs)\n",
    "# predicted = np.argmax(outputs.data, axis=1)"
   ]
  },
  {
   "cell_type": "code",
   "execution_count": null,
   "metadata": {},
   "outputs": [],
   "source": [
    "# gg_confusion_matrix(targets.data.reshape(-1), predicted)"
   ]
  },
  {
   "cell_type": "code",
   "execution_count": null,
   "metadata": {},
   "outputs": [],
   "source": [
    "num_examples = 100\n",
    "seq_len = 2\n",
    "max_number = 10\n",
    "vocab_size = len(vocab)\n",
    "emb_size = 20\n",
    "hidden_size = 32\n",
    "\n",
    "X_val, y_val = get_examples(seq_len, num_examples, max_number)\n",
    "X_val, y_val = X_val.transpose(1, 0), y_val.transpose(1, 0)"
   ]
  },
  {
   "cell_type": "code",
   "execution_count": null,
   "metadata": {},
   "outputs": [
    {
     "name": "stdout",
     "output_type": "stream",
     "text": [
      "[0]: Start -- E\n",
      "Gradient check passed\n",
      "[0]: Elapsed time: 0.7s\n",
      "[1]: Start -- weights\n",
      "Gradient check passed\n",
      "[1]: Elapsed time: 3.9s\n",
      "[2]: Start -- bias\n",
      "Gradient check passed\n",
      "[2]: Elapsed time: 0.1s\n",
      "[3]: Start -- weights\n",
      "Gradient check passed\n",
      "[3]: Elapsed time: 0.7s\n",
      "[4]: Start -- bias\n",
      "Gradient check passed\n",
      "[4]: Elapsed time: 0.0s\n",
      "Total elapsed time: 5.4s\n"
     ]
    }
   ],
   "source": [
    "loss_function = CrossEntropyLoss()\n",
    "model_ = RecurrentNetwork(vocab_size, emb_size, hidden_size)\n",
    "dJ_theta_tensors = dJ_theta_global(model_, loss_function, Tensor(X_val), Tensor(y_val))\n",
    "global_start = time.time()\n",
    "for i, parameter in enumerate(model_.parameters):\n",
    "    start = time.time()\n",
    "    print(f'[{i}]: Start -- {parameter.__name__}')\n",
    "    def J_theta(theta, idx=i, x=Tensor(X_val), y=Tensor(y_val)):\n",
    "        return J_theta_global(model_, loss_function, theta, idx, x, y)\n",
    "    gradient_checker(J_theta, dJ_theta_tensors[i], parameter.data)\n",
    "    print(f'[{i}]: Elapsed time: {time.time() - start:.1f}s')\n",
    "print(f'Total elapsed time: {time.time() - global_start:.1f}s')"
   ]
  },
  {
   "attachments": {},
   "cell_type": "markdown",
   "metadata": {},
   "source": [
    "# 1. LSTM"
   ]
  },
  {
   "attachments": {},
   "cell_type": "markdown",
   "metadata": {},
   "source": [
    "### Problem 1 (6.0)(OK)\n",
    "\n",
    "Implement the LSTM cell class and use it in the RNN sorter. Don't forget to check gradients!\n",
    "\n",
    "LSTM cell formulas:\n",
    "$$\n",
    "f_t=\\sigma\\Bigg(W_f\\cdot\\Big[h_{t-1};x_t\\Big] + b_f\\Bigg)\\\\\n",
    "i_t = \\sigma\\Bigg(W_i\\cdot\\Big[h_{t-1};x_t\\Big] + b_i\\Bigg)\\\\\n",
    "\\tilde{c}_t = \\tanh\\Bigg(W_c\\cdot\\Big[h_{t-1};x_t\\Big] + b_c\\Bigg)\\\\\n",
    "c_t = f_t \\ast c_{t-1} + i_t \\ast \\tilde{c}_t\\\\\n",
    "o_t = \\sigma\\Bigg(W_o\\cdot\\Big[h_{t-1};x_t\\Big] + b_o\\Bigg)\\\\\n",
    "h_t = o_t \\ast \\tanh \\left(c_t\\right)\n",
    "$$\n",
    "\n",
    "As you can see, you'll need two additional functions here: sum and multiplication. You have to implement them too."
   ]
  },
  {
   "cell_type": "code",
   "execution_count": null,
   "metadata": {},
   "outputs": [],
   "source": [
    "class LSTMCell(Module):\n",
    "    def __init__(self, state_size: int, hidden_size: int):\n",
    "        super().__init__()\n",
    "        self.lin_f = LinearLayer(state_size, hidden_size)\n",
    "        self.lin_i = LinearLayer(state_size, hidden_size)\n",
    "        self.lin_c = LinearLayer(state_size, hidden_size)\n",
    "        self.lin_o = LinearLayer(state_size, hidden_size)\n",
    "        self.sigm = SigmoidFunction()\n",
    "        self.tanh = TanhFunction()\n",
    "        self.hstack = HStack()\n",
    "        self.sum = Sum()\n",
    "        self.prod = Multiply()\n",
    "        self.register_parameters([self.lin_f, self.lin_i, self.lin_c, self.lin_o])\n",
    "\n",
    "    def forward(self, x: Tensor, h_t_1: Tensor, c_t_1: Tensor):\n",
    "        h_x = self.hstack(h_t_1, x)\n",
    "        f_t = self.sigm(self.lin_f(h_x))\n",
    "        i_t = self.sigm(self.lin_i(h_x))\n",
    "        o_t = self.sigm(self.lin_o(h_x))\n",
    "\n",
    "        c_tild = self.tanh(self.lin_c(h_x))\n",
    "        c_t = self.sum(self.prod(f_t, c_t_1), self.prod(c_tild, i_t))\n",
    "        h_t = self.prod(o_t, self.tanh(c_t))\n",
    "        return h_t, c_t"
   ]
  },
  {
   "cell_type": "code",
   "execution_count": null,
   "metadata": {},
   "outputs": [],
   "source": [
    "class LSTM(Module):\n",
    "    def __init__(self, input_size: int, hidden_size: int):\n",
    "        super().__init__()\n",
    "        self.input_size = input_size\n",
    "        self.hidden_size = hidden_size\n",
    "        self.state_size = input_size + hidden_size\n",
    "        self.rnn = LSTMCell(self.state_size, hidden_size)\n",
    "        self.row = Row()\n",
    "        self.vstack = VStack()\n",
    "        self.register_parameters([self.rnn])\n",
    "\n",
    "\n",
    "    def forward(self, x: Tensor, h_t_1: Optional[Tensor] = None, c_t_1: Optional[Tensor] = None):\n",
    "        seq_len, batch_size, input_size = x.shape\n",
    "\n",
    "        h = Tensor(np.zeros((0, batch_size, self.hidden_size)), name=\"h\")\n",
    "        if h_t_1 is None:\n",
    "            h_t_1 = Tensor(np.zeros((batch_size, self.hidden_size)), name=\"h_t_1\")\n",
    "        if c_t_1 is None:\n",
    "            c_t_1 = Tensor(np.zeros((batch_size, self.hidden_size)), name=\"c_t_1\")\n",
    "        for idx in range(seq_len):\n",
    "            h_t_1, c_t_1 = self.rnn.forward(self.row(x, idx), h_t_1, c_t_1)\n",
    "            h = self.vstack(h, h_t_1.reshape((1, batch_size, self.hidden_size)))\n",
    "        return h"
   ]
  },
  {
   "cell_type": "code",
   "execution_count": null,
   "metadata": {},
   "outputs": [
    {
     "name": "stdout",
     "output_type": "stream",
     "text": [
      "[[0.71576708 0.8916259  1.74680369 0.94399938 1.30660592 1.8421169\n",
      "  0.41127958 1.58772063 0.49313897 0.32070423]\n",
      " [0.4560102  1.73079965 0.42882033 0.81700231 0.73318676 1.77478411\n",
      "  0.91791831 1.23505692 1.2962205  1.14340559]\n",
      " [1.33400104 1.73856441 0.16758543 0.88952964 0.74251496 0.80829794\n",
      "  0.9089686  0.90308372 0.57225288 1.49240337]\n",
      " [0.33105179 1.10656222 0.54507093 1.3863948  1.25762489 0.98710671\n",
      "  1.15801525 1.08883515 0.84523174 1.31342785]\n",
      " [1.2048898  0.74904879 0.60291771 1.27700176 0.97335936 0.78965347\n",
      "  0.27992526 1.15277419 0.3084457  0.33516707]\n",
      " [1.56583339 0.71093971 1.90755014 1.59153825 1.12172427 0.24694804\n",
      "  1.07982073 1.43250206 0.99272725 0.43338163]\n",
      " [1.31937761 0.41821415 0.92938775 1.69658672 0.40288297 0.93671595\n",
      "  0.93883652 1.95239634 0.61247384 1.07209153]\n",
      " [0.62393198 1.61562622 1.31617291 1.10039295 0.53855081 1.24747596\n",
      "  0.28205433 1.23178722 0.97834138 1.920653  ]\n",
      " [0.28902855 0.2181847  0.78791907 1.12085833 1.02313772 0.68508802\n",
      "  1.13421839 1.22465435 0.91056279 0.94951466]\n",
      " [1.16775226 0.96599293 1.36698715 1.0231469  0.74972171 1.18188682\n",
      "  1.13338623 0.67264327 0.779652   0.61758813]]\n",
      "[[0.12650388 0.16666897 0.75407298 0.12548614 0.40884263 0.84436624\n",
      "  0.007789   0.62122092 0.06075629 0.01134535]\n",
      " [0.02140175 0.7440423  0.00490669 0.13469438 0.11621883 0.78726843\n",
      "  0.07005042 0.37724571 0.41902293 0.31736176]\n",
      " [0.36908089 0.7535176  0.00527231 0.19712311 0.13711946 0.15450006\n",
      "  0.20654607 0.19935434 0.06049172 0.5024999 ]\n",
      " [0.0214863  0.16999606 0.03113577 0.47569862 0.354855   0.22588188\n",
      "  0.31317212 0.27819273 0.17631122 0.35901146]\n",
      " [0.31164441 0.06976531 0.05349882 0.3633178  0.0862958  0.10559275\n",
      "  0.01957563 0.32930459 0.00217483 0.00587942]\n",
      " [0.60178057 0.10982881 0.90908691 0.62711218 0.27384658 0.00916379\n",
      "  0.19804097 0.47499706 0.14122985 0.03907997]\n",
      " [0.32079227 0.04127778 0.14859442 0.71603257 0.03940591 0.02584667\n",
      "  0.19477376 0.95296282 0.0931572  0.1131306 ]\n",
      " [0.03054119 0.64285167 0.417208   0.29748606 0.07041334 0.38234837\n",
      "  0.01741038 0.37534941 0.1836272  0.92220485]\n",
      " [0.00745549 0.00368627 0.13220672 0.29265921 0.18395172 0.09519345\n",
      "  0.22837035 0.36499725 0.1917359  0.07658826]\n",
      " [0.32878581 0.13306131 0.45658044 0.19331641 0.13874085 0.29138675\n",
      "  0.23580653 0.06910578 0.12105203 0.06755406]]\n"
     ]
    }
   ],
   "source": [
    "# tests\n",
    "a, b = Tensor(data=np.random.rand(10, 10)), Tensor(data=np.random.rand(10, 10))\n",
    "\n",
    "sum = SumFunction(a, b)()\n",
    "print(sum.data)\n",
    "sum.backward(sum.data)\n",
    "\n",
    "prod = MultiplyFunction(a, b)()\n",
    "print(prod.data)\n",
    "prod.backward(prod.data);\n"
   ]
  },
  {
   "attachments": {},
   "cell_type": "markdown",
   "metadata": {},
   "source": [
    "## Sorting training"
   ]
  },
  {
   "cell_type": "code",
   "execution_count": null,
   "metadata": {},
   "outputs": [],
   "source": [
    "class RecurrentNetwork(Module):\n",
    "    def __init__(self, vocab_size: int, emb_size: int, hidden_size: int):\n",
    "        super().__init__()\n",
    "        self.emb_size = emb_size\n",
    "        self.hidden_size = hidden_size\n",
    "        self.embedding = Embedding(vocab_size, emb_size)\n",
    "        self.rnn = LSTM(emb_size, hidden_size)\n",
    "        self.linear = LinearLayer(hidden_size, vocab_size)\n",
    "        xavier_(self.linear.parameters)\n",
    "        self.register_parameters([self.embedding, self.rnn, self.linear])\n",
    "\n",
    "    def forward(self, x: Tensor):\n",
    "        emb = self.embedding(x)\n",
    "        rnn_out = self.rnn(emb)\n",
    "        linear_out = self.linear(rnn_out.reshape(-1, self.hidden_size))\n",
    "        return linear_out"
   ]
  },
  {
   "cell_type": "code",
   "execution_count": null,
   "metadata": {},
   "outputs": [],
   "source": [
    "num_epochs = 1\n",
    "vocab_size = len(vocab)\n",
    "emb_size = 20\n",
    "hidden_size = 32\n",
    "batch_size = 1\n",
    "dataloader = DataLoader(dataset_inputs, dataset_targets, batch_size=batch_size)\n",
    "model = RecurrentNetwork(vocab_size, emb_size, hidden_size)\n",
    "loss_function = CrossEntropyLoss()\n",
    "optimizer = SGD(model.parameters, lr=1.0)\n",
    "# optimizer = Adam(model.parameters, alpha=0.1, beta1=0.9, beta2=0.999, eps=1e-8, weight_decay=0.01)\n",
    "scheduler = ConstantLR(optimizer)"
   ]
  },
  {
   "cell_type": "code",
   "execution_count": null,
   "metadata": {},
   "outputs": [
    {
     "data": {
      "text/plain": [
       "7420"
      ]
     },
     "execution_count": null,
     "metadata": {},
     "output_type": "execute_result"
    }
   ],
   "source": [
    "model.size()"
   ]
  },
  {
   "cell_type": "markdown",
   "metadata": {},
   "source": [
    "## Benchmarking training and evaluating time step:\n"
   ]
  },
  {
   "cell_type": "code",
   "execution_count": null,
   "metadata": {},
   "outputs": [
    {
     "name": "stdout",
     "output_type": "stream",
     "text": [
      "(8, 1)\n"
     ]
    }
   ],
   "source": [
    "data = next(iter(dataloader()))\n",
    "inputs, targets = data\n",
    "inputs = inputs.transpose(1, 0)\n",
    "targets = targets.transpose(1, 0)\n",
    "print(inputs.shape)"
   ]
  },
  {
   "cell_type": "code",
   "execution_count": null,
   "metadata": {},
   "outputs": [
    {
     "name": "stdout",
     "output_type": "stream",
     "text": [
      "5.73 ms ± 1.78 ms per loop (mean ± std. dev. of 7 runs, 100 loops each)\n"
     ]
    }
   ],
   "source": [
    "%%timeit\n",
    "# inference step\n",
    "outputs = model(inputs)"
   ]
  },
  {
   "cell_type": "code",
   "execution_count": null,
   "metadata": {},
   "outputs": [
    {
     "name": "stdout",
     "output_type": "stream",
     "text": [
      "54.2 s ± 12.5 s per loop (mean ± std. dev. of 7 runs, 1 loop each)\n"
     ]
    }
   ],
   "source": [
    "%%timeit\n",
    "# training step\n",
    "outputs = model(inputs)\n",
    "optimizer.zero_grad()\n",
    "loss = loss_function(outputs, targets)\n",
    "loss.backward()\n",
    "optimizer.step()"
   ]
  },
  {
   "cell_type": "code",
   "execution_count": null,
   "metadata": {},
   "outputs": [],
   "source": [
    "# losses = []\n",
    "# accuracies = []\n",
    "# lrs = []\n",
    "# for epoch in range(num_epochs):\n",
    "#     loss_sum = 0\n",
    "#     for data in dataloader():\n",
    "#         optimizer.zero_grad()\n",
    "#         inputs, targets = data\n",
    "#         inputs = inputs.transpose(1, 0)\n",
    "#         targets = targets.transpose(1, 0)\n",
    "#         outputs = model(inputs)\n",
    "#         loss = loss_function(outputs, targets)\n",
    "#         loss.backward()\n",
    "#         optimizer.step()\n",
    "#         loss_sum += loss.data\n",
    "#         print(\"done step\")\n",
    "#     acc = eval_accuracy(model, inputs.data, targets.data)\n",
    "#     print(f'\\r epoch: [{epoch+1}/{num_epochs}], loss: {loss_sum}, acc: {acc}', end='')\n",
    "#     losses.append(loss_sum)\n",
    "#     accuracies.append(acc)\n",
    "#     lrs.append(scheduler.lr)\n",
    "#     scheduler.step()"
   ]
  },
  {
   "cell_type": "code",
   "execution_count": null,
   "metadata": {},
   "outputs": [],
   "source": [
    "# epochs = np.arange(num_epochs)\n",
    "# fig, ax = plt.subplots(1, 2, figsize=(15,5))\n",
    "# ax[0].plot(epochs, losses)\n",
    "# ax[0].set_title('Losses')\n",
    "# ax[1].plot(epochs, accuracies)\n",
    "# ax[1].set_title('Accuracy');"
   ]
  },
  {
   "cell_type": "code",
   "execution_count": null,
   "metadata": {},
   "outputs": [],
   "source": [
    "# num_examples = 100\n",
    "# seq_len = 3\n",
    "# max_number = 10\n",
    "\n",
    "# inputs, targets = get_examples(seq_len, num_examples, max_number)\n",
    "\n",
    "# inputs = to_string(inputs, seq_len, max_number)\n",
    "# targets = to_string(targets, seq_len, max_number)\n",
    "\n",
    "# inputs = integer_encode(inputs, vocab)\n",
    "# targets = integer_encode(targets, vocab)\n",
    "\n",
    "# inputs, targets = Tensor(np.array(inputs).transpose((1, 0))), Tensor(np.array(targets).transpose((1, 0)))\n",
    "# outputs = model(inputs)\n",
    "# predicted = np.argmax(outputs.data, axis=1)"
   ]
  },
  {
   "cell_type": "code",
   "execution_count": null,
   "metadata": {},
   "outputs": [],
   "source": [
    "# gg_confusion_matrix(targets.data.reshape(-1), predicted)"
   ]
  },
  {
   "attachments": {},
   "cell_type": "markdown",
   "metadata": {},
   "source": [
    "# Checks\n",
    "Change RNN to LSTM in the RecurrentNetwork class below to perform gradient check.\n",
    "Note, that due to naive implementation of the backpropagation, number of calculations needed for one backpropagation pass grows exponentially with respect to sequence length. That's why the length in the gradient check is set to 2.\n",
    "\n",
    "\n",
    "$\\color{red}{\\text{If you want to implement a faster version of numpy framework, which supports recurrent arcgitectures, you can take this task as a course project.}}$"
   ]
  },
  {
   "cell_type": "code",
   "execution_count": null,
   "metadata": {},
   "outputs": [],
   "source": [
    "class RecurrentNetwork(Module):\n",
    "    def __init__(self, vocab_size: int, emb_size: int, hidden_size: int):\n",
    "        super().__init__()\n",
    "        self.emb_size = emb_size\n",
    "        self.hidden_size = hidden_size\n",
    "        self.embedding = Embedding(vocab_size, emb_size)\n",
    "        self.lstm = LSTM(emb_size, hidden_size)\n",
    "        self.linear = LinearLayer(hidden_size, vocab_size)\n",
    "        xavier_(self.linear.parameters)\n",
    "        self.register_parameters([self.embedding, self.lstm, self.linear])\n",
    "\n",
    "    def forward(self, x: Tensor):\n",
    "        emb = self.embedding(x)\n",
    "        lstm_out = self.lstm(emb)\n",
    "        linear_out = self.linear(lstm_out.reshape(-1, self.hidden_size))\n",
    "        return linear_out"
   ]
  },
  {
   "cell_type": "code",
   "execution_count": null,
   "metadata": {},
   "outputs": [],
   "source": [
    "# original - passes test\n",
    "num_examples = 100\n",
    "seq_len = 2\n",
    "max_number = 10\n",
    "vocab_size = len(vocab)\n",
    "emb_size = 20\n",
    "hidden_size = 32\n",
    "\n",
    "X_val, y_val = get_examples(seq_len, num_examples, max_number)\n",
    "X_val, y_val = X_val.transpose(1, 0), y_val.transpose(1, 0)"
   ]
  },
  {
   "cell_type": "code",
   "execution_count": null,
   "metadata": {},
   "outputs": [
    {
     "name": "stdout",
     "output_type": "stream",
     "text": [
      "[0]: Start -- E\n"
     ]
    },
    {
     "name": "stdout",
     "output_type": "stream",
     "text": [
      "Gradient check passed. Calls: 240\n",
      "[0]: Elapsed time: 2.2s\n",
      "[1]: Start -- weights\n",
      "Gradient check passed. Calls: 1664\n",
      "[1]: Elapsed time: 8.3s\n",
      "[2]: Start -- bias\n",
      "Gradient check passed. Calls: 32\n",
      "[2]: Elapsed time: 0.1s\n",
      "[3]: Start -- weights\n",
      "Gradient check passed. Calls: 1664\n",
      "[3]: Elapsed time: 7.4s\n",
      "[4]: Start -- bias\n",
      "Gradient check passed. Calls: 32\n",
      "[4]: Elapsed time: 0.1s\n",
      "[5]: Start -- weights\n",
      "Gradient check passed. Calls: 1664\n",
      "[5]: Elapsed time: 7.8s\n",
      "[6]: Start -- bias\n",
      "Gradient check passed. Calls: 32\n",
      "[6]: Elapsed time: 0.1s\n",
      "[7]: Start -- weights\n",
      "Gradient check passed. Calls: 1664\n",
      "[7]: Elapsed time: 6.4s\n",
      "[8]: Start -- bias\n",
      "Gradient check passed. Calls: 32\n",
      "[8]: Elapsed time: 0.1s\n",
      "[9]: Start -- weights\n",
      "Gradient check passed. Calls: 384\n",
      "[9]: Elapsed time: 1.3s\n",
      "[10]: Start -- bias\n",
      "Gradient check passed. Calls: 12\n",
      "[10]: Elapsed time: 0.1s\n",
      "Total elapsed time: 33.9s\n"
     ]
    }
   ],
   "source": [
    "loss_function = CrossEntropyLoss()\n",
    "model_ = RecurrentNetwork(vocab_size, emb_size, hidden_size)\n",
    "dJ_theta_tensors = dJ_theta_global(model_, loss_function, Tensor(X_val), Tensor(y_val))\n",
    "global_start = time.time()\n",
    "for i, parameter in enumerate(model_.parameters):\n",
    "    start = time.time()\n",
    "    print(f'[{i}]: Start -- {parameter.__name__}')\n",
    "    def J_theta(theta, idx=i, x=Tensor(X_val), y=Tensor(y_val)):\n",
    "        return J_theta_global(model_, loss_function, theta, idx, x, y)\n",
    "    gradient_checker(J_theta, dJ_theta_tensors[i], parameter.data)\n",
    "    print(f'[{i}]: Elapsed time: {time.time() - start:.1f}s')\n",
    "print(f'Total elapsed time: {time.time() - global_start:.1f}s')"
   ]
  }
 ],
 "metadata": {
  "kernelspec": {
   "display_name": "python3",
   "language": "python",
   "name": "python3"
  }
 },
 "nbformat": 4,
 "nbformat_minor": 4
}
